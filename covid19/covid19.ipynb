{
 "cells": [
  {
   "cell_type": "code",
   "execution_count": 18,
   "metadata": {},
   "outputs": [],
   "source": [
    "import pandas as pd\n",
    "import matplotlib.pyplot as plt\n",
    "import numpy as np\n",
    "from sklearn.cluster import KMeans\n",
    "from sklearn.decomposition import PCA\n",
    "from sklearn.preprocessing import StandardScaler\n"
   ]
  },
  {
   "cell_type": "code",
   "execution_count": 69,
   "metadata": {},
   "outputs": [],
   "source": [
    "# Extract data from the source (Kaggle COVID-19 dataset)\n",
    "data = pd.read_csv('covid19_data.csv')\n",
    "\n",
    "vaccinations_data = pd.read_csv('vaccinationsByAge.csv')\n"
   ]
  },
  {
   "cell_type": "code",
   "execution_count": 70,
   "metadata": {},
   "outputs": [],
   "source": [
    "\n",
    "# Group data by country and date\n",
    "grouped_data = data.groupby(['Country/Region', 'WHO Region']).sum()\n",
    "grouped_data = grouped_data.drop('Date', axis=1)\n",
    "\n",
    "vaccinations_data['date'] = pd.to_datetime(vaccinations_data['date'])\n",
    "\n",
    "#Group data by Age Group and calculate the total people_vaccinated_per_hundred for each age group\n",
    "grouped_data2 = vaccinations_data.groupby('age_group')['people_vaccinated_per_hundred'].sum()"
   ]
  },
  {
   "cell_type": "code",
   "execution_count": 86,
   "metadata": {},
   "outputs": [],
   "source": [
    "# Calculate the percentage of total vaccinations per hundred for each age group\n",
    "total_doses_sum = grouped_data2.sum()\n",
    "grouped_data_percentage = (grouped_data2 / total_doses_sum) * 100\n",
    "grouped_data_sorted = grouped_data2.sort_values(ascending=False)\n",
    "\n"
   ]
  },
  {
   "cell_type": "code",
   "execution_count": 82,
   "metadata": {},
   "outputs": [
    {
     "name": "stdout",
     "output_type": "stream",
     "text": [
      "Total Doses by Age Group:\n",
      "age_group\n",
      "0-15          0.00\n",
      "0-17      26974.47\n",
      "0-19      37228.07\n",
      "0-4         183.97\n",
      "0-5         407.06\n",
      "0-9         263.02\n",
      "10-14     64240.84\n",
      "10-19      4644.74\n",
      "100+      85325.98\n",
      "12-15     43925.12\n",
      "12-17     58691.33\n",
      "12-64     56320.02\n",
      "15-17    115399.24\n",
      "16-17      5971.22\n",
      "16-19     46758.00\n",
      "16-69         0.45\n",
      "18-24    210547.54\n",
      "18-29     78275.28\n",
      "18-69        66.50\n",
      "20-29    123590.17\n",
      "25-34      1834.36\n",
      "25-49    218363.16\n",
      "3-11      46155.78\n",
      "30-39    221726.88\n",
      "35-44      2522.17\n",
      "40-49    232155.59\n",
      "45-54      3556.57\n",
      "5-11      13769.50\n",
      "5-9       22736.20\n",
      "50-54     11788.71\n",
      "50-59    465331.80\n",
      "55-59     12720.45\n",
      "55-64      5310.69\n",
      "60-64     12895.04\n",
      "60-69    488841.71\n",
      "65+       63101.87\n",
      "65-69     12479.02\n",
      "65-74      4622.24\n",
      "70-74     12720.30\n",
      "70-79    505239.22\n",
      "75+        4262.48\n",
      "75-79     13153.04\n",
      "80+      343382.38\n",
      "80-89    159251.11\n",
      "90+       86272.53\n",
      "90-99     65085.52\n",
      "Name: people_vaccinated_per_hundred, dtype: float64\n"
     ]
    }
   ],
   "source": [
    "# Print the grouped data with total doses for each age group\n",
    "print(\"Total Doses by Age Group:\")\n",
    "print(grouped_data2)\n"
   ]
  },
  {
   "cell_type": "code",
   "execution_count": 83,
   "metadata": {},
   "outputs": [
    {
     "name": "stdout",
     "output_type": "stream",
     "text": [
      "\n",
      "Percentage of Total Doses by Age Group:\n",
      "age_group\n",
      "0-15      0.000000\n",
      "0-17      0.676375\n",
      "0-19      0.933481\n",
      "0-4       0.004613\n",
      "0-5       0.010207\n",
      "0-9       0.006595\n",
      "10-14     1.610817\n",
      "10-19     0.116465\n",
      "100+      2.139519\n",
      "12-15     1.101407\n",
      "12-17     1.471665\n",
      "12-64     1.412205\n",
      "15-17     2.893596\n",
      "16-17     0.149726\n",
      "16-19     1.172441\n",
      "16-69     0.000011\n",
      "18-24     5.279406\n",
      "18-29     1.962725\n",
      "18-69     0.001667\n",
      "20-29     3.098980\n",
      "25-34     0.045996\n",
      "25-49     5.475380\n",
      "3-11      1.157340\n",
      "30-39     5.559724\n",
      "35-44     0.063243\n",
      "40-49     5.821220\n",
      "45-54     0.089180\n",
      "5-11      0.345265\n",
      "5-9       0.570102\n",
      "50-54     0.295598\n",
      "50-59    11.668033\n",
      "55-59     0.318961\n",
      "55-64     0.133164\n",
      "60-64     0.323339\n",
      "60-69    12.257535\n",
      "65+       1.582257\n",
      "65-69     0.312907\n",
      "65-74     0.115901\n",
      "70-74     0.318957\n",
      "70-79    12.668697\n",
      "75+       0.106880\n",
      "75-79     0.329808\n",
      "80+       8.610193\n",
      "80-89     3.993166\n",
      "90+       2.163254\n",
      "90-99     1.631997\n",
      "Name: people_vaccinated_per_hundred, dtype: float64\n"
     ]
    }
   ],
   "source": [
    "# Print the percentage of total doses for each age group\n",
    "print(\"\\nPercentage of Total Doses by Age Group:\")\n",
    "print(grouped_data_percentage)\n",
    "\n"
   ]
  },
  {
   "cell_type": "code",
   "execution_count": 84,
   "metadata": {},
   "outputs": [
    {
     "name": "stdout",
     "output_type": "stream",
     "text": [
      "\n",
      "Age Groups Sorted by Total Doses:\n",
      "age_group\n",
      "70-79    505239.22\n",
      "60-69    488841.71\n",
      "50-59    465331.80\n",
      "80+      343382.38\n",
      "40-49    232155.59\n",
      "30-39    221726.88\n",
      "25-49    218363.16\n",
      "18-24    210547.54\n",
      "80-89    159251.11\n",
      "20-29    123590.17\n",
      "15-17    115399.24\n",
      "90+       86272.53\n",
      "100+      85325.98\n",
      "18-29     78275.28\n",
      "90-99     65085.52\n",
      "10-14     64240.84\n",
      "65+       63101.87\n",
      "12-17     58691.33\n",
      "12-64     56320.02\n",
      "16-19     46758.00\n",
      "3-11      46155.78\n",
      "12-15     43925.12\n",
      "0-19      37228.07\n",
      "0-17      26974.47\n",
      "5-9       22736.20\n",
      "5-11      13769.50\n",
      "75-79     13153.04\n",
      "60-64     12895.04\n",
      "55-59     12720.45\n",
      "70-74     12720.30\n",
      "65-69     12479.02\n",
      "50-54     11788.71\n",
      "16-17      5971.22\n",
      "55-64      5310.69\n",
      "10-19      4644.74\n",
      "65-74      4622.24\n",
      "75+        4262.48\n",
      "45-54      3556.57\n",
      "35-44      2522.17\n",
      "25-34      1834.36\n",
      "0-5         407.06\n",
      "0-9         263.02\n",
      "0-4         183.97\n",
      "18-69        66.50\n",
      "16-69         0.45\n",
      "0-15          0.00\n",
      "Name: people_vaccinated_per_hundred, dtype: float64\n"
     ]
    }
   ],
   "source": [
    "# Print the sorted age groups by total doses\n",
    "print(\"\\nAge Groups Sorted by Total Doses:\")\n",
    "print(grouped_data_sorted)"
   ]
  },
  {
   "cell_type": "code",
   "execution_count": 87,
   "metadata": {},
   "outputs": [],
   "source": [
    "# Calculate additional metrics\n",
    "grouped_data['ActiveCases'] = grouped_data['Confirmed'] - grouped_data['Recovered'] - grouped_data['Deaths']\n",
    "grouped_data['NewCases'] = grouped_data.groupby('Country/Region')['Confirmed'].diff()\n",
    "grouped_data['NewDeaths'] = grouped_data.groupby('Country/Region')['Deaths'].diff()\n",
    "grouped_data['MortalityRate'] = grouped_data['Deaths'] / grouped_data['Confirmed'] * 100\n",
    "grouped_data['RecoveryRate'] = grouped_data['Recovered'] / grouped_data['Confirmed'] * 100\n",
    "grouped_data2['PercentageVaccinated'] = grouped_data_percentage * 100\n",
    "\n"
   ]
  },
  {
   "cell_type": "code",
   "execution_count": 30,
   "metadata": {},
   "outputs": [],
   "source": [
    "# Standardize the data using StandardScaler\n",
    "scaler = StandardScaler()\n",
    "scaled_data = scaler.fit_transform(grouped_data)\n"
   ]
  },
  {
   "cell_type": "code",
   "execution_count": 31,
   "metadata": {},
   "outputs": [
    {
     "name": "stderr",
     "output_type": "stream",
     "text": [
      "/home/thechemist54/.local/lib/python3.10/site-packages/sklearn/cluster/_kmeans.py:870: FutureWarning: The default value of `n_init` will change from 10 to 'auto' in 1.4. Set the value of `n_init` explicitly to suppress the warning\n",
      "  warnings.warn(\n"
     ]
    }
   ],
   "source": [
    "# Perform clustering using K-means algorithm\n",
    "kmeans = KMeans(n_clusters=3, random_state=0)\n",
    "kmeans.fit(scaled_data)\n",
    "labels = kmeans.labels_"
   ]
  },
  {
   "cell_type": "code",
   "execution_count": 32,
   "metadata": {},
   "outputs": [],
   "source": [
    "# Perform principal component analysis (PCA)\n",
    "pca = PCA(n_components=2)\n",
    "principal_components = pca.fit_transform(scaled_data)\n"
   ]
  },
  {
   "cell_type": "code",
   "execution_count": 33,
   "metadata": {},
   "outputs": [],
   "source": [
    "# Add cluster labels and principal components to the grouped data\n",
    "grouped_data['Cluster'] = labels\n",
    "grouped_data['PC1'] = principal_components[:, 0]\n",
    "grouped_data['PC2'] = principal_components[:, 1]"
   ]
  },
  {
   "cell_type": "code",
   "execution_count": 17,
   "metadata": {},
   "outputs": [],
   "source": [
    "# Bar plot: Top 10 countries with the most total cases\n",
    "top_10_countries = grouped_data.groupby('Country/Region')['Confirmed'].sum().nlargest(10)\n",
    "top_10_countries.plot(kind='bar', figsize=(12, 6))\n",
    "plt.xlabel('Country')\n",
    "plt.ylabel('Total Cases')\n",
    "plt.title('Top 10 Countries with the Most Total COVID-19 Cases')\n",
    "plt.xticks(rotation=45)\n",
    "plt.tight_layout()\n",
    "plt.savefig('bar_plot.png')\n",
    "plt.close()"
   ]
  },
  {
   "cell_type": "code",
   "execution_count": 14,
   "metadata": {},
   "outputs": [],
   "source": [
    "# Scatter plot: Total cases vs. total deaths for all countries\n",
    "plt.scatter(grouped_data['Confirmed'], grouped_data['Deaths'])\n",
    "plt.xlabel('Total Cases')\n",
    "plt.ylabel('Total Deaths')\n",
    "plt.title('Total COVID-19 Cases vs. Total Deaths for All Countries')\n",
    "plt.tight_layout()\n",
    "plt.savefig('scatter_plot.png')\n",
    "plt.close()"
   ]
  },
  {
   "cell_type": "code",
   "execution_count": 35,
   "metadata": {},
   "outputs": [],
   "source": [
    "# Scatter plot: Principal components with cluster labels\n",
    "plt.scatter(grouped_data['PC1'], grouped_data['PC2'], c=grouped_data['Cluster'], cmap='viridis')\n",
    "plt.xlabel('Principal Component 1')\n",
    "plt.ylabel('Principal Component 2')\n",
    "plt.title('Principal Components Analysis')\n",
    "plt.savefig('scatter_plot_PCA.png')\n",
    "plt.close()"
   ]
  },
  {
   "cell_type": "code",
   "execution_count": 37,
   "metadata": {},
   "outputs": [],
   "source": [
    "# Bar plot: Total cases by WHO Region\n",
    "total_cases_by_region = grouped_data.groupby('WHO Region')['Confirmed'].sum()\n",
    "total_cases_by_region.plot(kind='bar')\n",
    "plt.xlabel('WHO Region')\n",
    "plt.ylabel('Total Cases')\n",
    "plt.title('Total COVID-19 Cases by WHO Region')\n",
    "plt.xticks(rotation=45)\n",
    "plt.savefig('bar_plot_WHO.png')\n",
    "plt.close()"
   ]
  },
  {
   "cell_type": "code",
   "execution_count": 89,
   "metadata": {},
   "outputs": [
    {
     "name": "stderr",
     "output_type": "stream",
     "text": [
      "5884.37s - pydevd: Sending message related to process being replaced timed-out after 5 seconds\n"
     ]
    },
    {
     "name": "stdout",
     "output_type": "stream",
     "text": [
      "Defaulting to user installation because normal site-packages is not writeable\n",
      "Collecting openpyxl\n",
      "  Downloading openpyxl-3.1.2-py2.py3-none-any.whl (249 kB)\n",
      "\u001b[2K     \u001b[90m━━━━━━━━━━━━━━━━━━━━━━━━━━━━━━━━━━━━━━━\u001b[0m \u001b[32m250.0/250.0 kB\u001b[0m \u001b[31m4.5 MB/s\u001b[0m eta \u001b[36m0:00:00\u001b[0ma \u001b[36m0:00:01\u001b[0m\n",
      "\u001b[?25hCollecting et-xmlfile (from openpyxl)\n",
      "  Downloading et_xmlfile-1.1.0-py3-none-any.whl (4.7 kB)\n",
      "Installing collected packages: et-xmlfile, openpyxl\n",
      "Successfully installed et-xmlfile-1.1.0 openpyxl-3.1.2\n"
     ]
    }
   ],
   "source": [
    "! pip install openpyxl\n"
   ]
  },
  {
   "cell_type": "code",
   "execution_count": 90,
   "metadata": {},
   "outputs": [],
   "source": [
    "#Load Data into CSV and EXCEL\n",
    "\n",
    "# Save the data analysis as a CSV file\n",
    "grouped_data.to_csv('data_analysis_covid19.csv', index=True)\n",
    "\n",
    "# Save the data analysis as an Excel file\n",
    "grouped_data.to_excel('data_analysis_covid19.xlsx', index=True)\n",
    "\n",
    "# Save the data analysis as a CSV file\n",
    "grouped_data2.to_csv('data_analysis_vaccinations.csv', index=True)\n",
    "\n",
    "# Save the data analysis as an Excel file\n",
    "grouped_data2.to_excel('data_analysis_vaccinations.xlsx', index=True)"
   ]
  }
 ],
 "metadata": {
  "kernelspec": {
   "display_name": "Python 3",
   "language": "python",
   "name": "python3"
  },
  "language_info": {
   "codemirror_mode": {
    "name": "ipython",
    "version": 3
   },
   "file_extension": ".py",
   "mimetype": "text/x-python",
   "name": "python",
   "nbconvert_exporter": "python",
   "pygments_lexer": "ipython3",
   "version": "3.10.6"
  },
  "orig_nbformat": 4
 },
 "nbformat": 4,
 "nbformat_minor": 2
}
